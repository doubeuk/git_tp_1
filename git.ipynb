{
 "cells": [
  {
   "cell_type": "code",
   "execution_count": 1,
   "id": "6f3119aa-e06a-4bd1-922e-6638a0055a9e",
   "metadata": {},
   "outputs": [
    {
     "name": "stdout",
     "output_type": "stream",
     "text": [
      "Jesus Christ est Dieu\n"
     ]
    }
   ],
   "source": [
    "print(\"Jesus Christ est Dieu\")\n"
   ]
  },
  {
   "cell_type": "code",
   "execution_count": 3,
   "id": "47a604b3-8e19-4e83-bd4e-e5c1a56a2017",
   "metadata": {},
   "outputs": [
    {
     "name": "stdout",
     "output_type": "stream",
     "text": [
      "il est ressuscite et vivant\n"
     ]
    }
   ],
   "source": [
    "print(\"il est ressuscite et vivant\")"
   ]
  }
 ],
 "metadata": {
  "kernelspec": {
   "display_name": "Python 3 (ipykernel)",
   "language": "python",
   "name": "python3"
  },
  "language_info": {
   "codemirror_mode": {
    "name": "ipython",
    "version": 3
   },
   "file_extension": ".py",
   "mimetype": "text/x-python",
   "name": "python",
   "nbconvert_exporter": "python",
   "pygments_lexer": "ipython3",
   "version": "3.12.4"
  }
 },
 "nbformat": 4,
 "nbformat_minor": 5
}
